{
 "cells": [
  {
   "cell_type": "code",
   "execution_count": 1,
   "id": "25429a46",
   "metadata": {},
   "outputs": [],
   "source": [
    "%load_ext autoreload\n",
    "%autoreload 2"
   ]
  },
  {
   "cell_type": "code",
   "execution_count": 2,
   "id": "a9e70635",
   "metadata": {},
   "outputs": [],
   "source": [
    "import sys\n",
    "sys.path.append(\"..\")"
   ]
  },
  {
   "cell_type": "code",
   "execution_count": 3,
   "id": "8628f76f",
   "metadata": {},
   "outputs": [],
   "source": [
    "import os\n",
    "from argparse import Namespace\n",
    "\n",
    "import torch\n",
    "import transformers\n",
    "import pytorch_lightning as pl\n",
    "\n",
    "from lcube.data_module.data_lbox_open import LBoxOpenDataModule\n",
    "from lcube.model.model_baseline import SeqToSeqBaseline\n",
    "\n",
    "os.environ[\"CUDA_VISIBLE_DEVICES\"]=\"0\"\n",
    "device = 'cuda' if torch.cuda.is_available() else \"cpu\""
   ]
  },
  {
   "cell_type": "markdown",
   "id": "26f271a3",
   "metadata": {},
   "source": [
    "# 0. Set parameters"
   ]
  },
  {
   "cell_type": "code",
   "execution_count": 4,
   "id": "432fa6b6",
   "metadata": {},
   "outputs": [],
   "source": [
    "args = Namespace()\n",
    "# dataset\n",
    "args.dataset_card = \"lbox/lbox_open\"\n",
    "# args.task = \"casename_classification\"\n",
    "args.task = \"statute_classification\"\n",
    "# args.task = \"summarization\"\n",
    "\n",
    "\n",
    "if args.task in [\"casename_classification\", \"statute_classification\"]:\n",
    "    args.input_key = \"facts\"\n",
    "\n",
    "    # model\n",
    "    args.model_card = \"google/mt5-small\"\n",
    "    args.max_input_len = 512\n",
    "    args.max_target_len = 64\n",
    "\n",
    "    # train\n",
    "    args.max_epochs = 10\n",
    "    args.learning_rate = 2e-4\n",
    "    args.batch_size = 8\n",
    "    args.batch_size_eval = 2 * args.batch_size\n",
    "    args.accumulate_grad_batches = 1\n",
    "    args.validation_metric = \"exact_match\"\n",
    "    \n",
    "elif args.task == \"summarization\":\n",
    "    args.input_key = \"precedent\"\n",
    "\n",
    "    # model\n",
    "    args.model_card = \"google/mt5-small\"\n",
    "    args.max_input_len = 768\n",
    "    args.max_target_len = 512\n",
    "\n",
    "    # train\n",
    "    args.max_epochs = 10\n",
    "    args.learning_rate = 2e-4\n",
    "    args.batch_size = 1\n",
    "    args.batch_size_eval = 2 * args.batch_size\n",
    "    args.accumulate_grad_batches = 8\n",
    "    args.validation_metric = \"rougeL\"\n",
    "\n",
    "else:\n",
    "    raise ValueError\n",
    "\n",
    "\n",
    "args.tokenizer = transformers.MT5TokenizerFast.from_pretrained(args.model_card)"
   ]
  },
  {
   "cell_type": "markdown",
   "id": "73af50ca",
   "metadata": {},
   "source": [
    "# 1. Load dataset"
   ]
  },
  {
   "cell_type": "code",
   "execution_count": 5,
   "id": "3875785a",
   "metadata": {},
   "outputs": [],
   "source": [
    "data_module = LBoxOpenDataModule(\n",
    "    args.dataset_card,\n",
    "    args.task,\n",
    "    args.tokenizer,\n",
    "    args.max_input_len,\n",
    "    args.max_target_len,\n",
    "    args.batch_size,\n",
    "    args.batch_size_eval,\n",
    ")"
   ]
  },
  {
   "cell_type": "markdown",
   "id": "14e27995",
   "metadata": {},
   "source": [
    "# 2. Load model"
   ]
  },
  {
   "cell_type": "code",
   "execution_count": null,
   "id": "43d23db5",
   "metadata": {},
   "outputs": [],
   "source": [
    "backbone = transformers.MT5ForConditionalGeneration.from_pretrained(args.model_card)"
   ]
  },
  {
   "cell_type": "code",
   "execution_count": null,
   "id": "e04bd360",
   "metadata": {},
   "outputs": [],
   "source": [
    "model = SeqToSeqBaseline(\n",
    "    args.task,\n",
    "    backbone,\n",
    "    args.tokenizer,\n",
    "    args.learning_rate,\n",
    "    args.max_target_len,\n",
    "    args.validation_metric\n",
    "\n",
    ")"
   ]
  },
  {
   "cell_type": "markdown",
   "id": "e604f4e2",
   "metadata": {},
   "source": [
    "# 3. Trainer"
   ]
  },
  {
   "cell_type": "code",
   "execution_count": null,
   "id": "0356bba3",
   "metadata": {},
   "outputs": [],
   "source": [
    "callbacks = pl.callbacks.ModelCheckpoint(\n",
    "    monitor=args.validation_metric,\n",
    "    dirpath=f\"./saved/0/{args.task}\",\n",
    "    save_top_k=1,\n",
    "    mode=\"max\",\n",
    ")\n",
    "trainer = pl.Trainer(\n",
    "    max_epochs = args.max_epochs,\n",
    "    gpus=torch.cuda.device_count(),\n",
    "    accumulate_grad_batches=args.accumulate_grad_batches,\n",
    "    fast_dev_run=not True,\n",
    "    callbacks=callbacks,\n",
    ")"
   ]
  },
  {
   "cell_type": "markdown",
   "id": "7dc5b890",
   "metadata": {},
   "source": [
    "# 4. Train"
   ]
  },
  {
   "cell_type": "code",
   "execution_count": null,
   "id": "5480bc0f",
   "metadata": {
    "scrolled": true
   },
   "outputs": [],
   "source": [
    "trainer.fit(model, data_module)"
   ]
  },
  {
   "cell_type": "markdown",
   "id": "bc567ce6",
   "metadata": {},
   "source": [
    "# 4. Train the model"
   ]
  },
  {
   "cell_type": "code",
   "execution_count": null,
   "id": "808f4747",
   "metadata": {},
   "outputs": [],
   "source": [
    "device = 'cuda' if torch.cuda.is_available() else 'cpu'\n",
    "input_text = data_module.dataset[\"test\"][40][args.input_key]\n",
    "model_inputs = args.tokenizer(\n",
    "            input_text,\n",
    "            max_length=args.max_input_len,\n",
    "            padding=True,\n",
    "            truncation=True,\n",
    "            return_tensors='pt',\n",
    "        )\n",
    "model_inputs = {k: v.to(device) for k,v in model_inputs.items()}\n",
    "pr_seqs = model.model.generate(model_inputs[\"input_ids\"], max_length=args.max_target_len)\n",
    "prs = args.tokenizer.batch_decode(pr_seqs, skip_special_tokens=True)\n",
    "print(f\"Input\\n {input_text}\\n\\n\")\n",
    "print(f\"Prediction\\n {prs}\")"
   ]
  },
  {
   "cell_type": "code",
   "execution_count": null,
   "id": "2164d293",
   "metadata": {},
   "outputs": [],
   "source": [
    "args.tokenizer.batch_decode(args.tokenizer(data_module.dataset[\"test\"][40][\"statutes\"], \n",
    "               padding=True, truncation=True, return_tensors=\"pt\"\n",
    "              )[\"input_ids\"])"
   ]
  },
  {
   "cell_type": "code",
   "execution_count": null,
   "id": "a547e10c",
   "metadata": {},
   "outputs": [],
   "source": [
    "\", \".join(data_module.dataset[\"test\"][40][\"statutes\"])"
   ]
  },
  {
   "cell_type": "code",
   "execution_count": null,
   "id": "a39a9773",
   "metadata": {},
   "outputs": [],
   "source": []
  }
 ],
 "metadata": {
  "kernelspec": {
   "display_name": "Python 3 (ipykernel)",
   "language": "python",
   "name": "python3"
  },
  "language_info": {
   "codemirror_mode": {
    "name": "ipython",
    "version": 3
   },
   "file_extension": ".py",
   "mimetype": "text/x-python",
   "name": "python",
   "nbconvert_exporter": "python",
   "pygments_lexer": "ipython3",
   "version": "3.8.11"
  }
 },
 "nbformat": 4,
 "nbformat_minor": 5
}
